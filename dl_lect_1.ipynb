{
  "nbformat": 4,
  "nbformat_minor": 0,
  "metadata": {
    "colab": {
      "name": "dl-lect-1.ipynb",
      "provenance": [],
      "collapsed_sections": [],
      "authorship_tag": "ABX9TyP04+w7eZZu9LY0CMZhhPIw",
      "include_colab_link": true
    },
    "kernelspec": {
      "name": "python3",
      "display_name": "Python 3"
    },
    "language_info": {
      "name": "python"
    }
  },
  "cells": [
    {
      "cell_type": "markdown",
      "metadata": {
        "id": "view-in-github",
        "colab_type": "text"
      },
      "source": [
        "<a href=\"https://colab.research.google.com/github/pranavkantgaur/ML-course/blob/main/dl_lect_1.ipynb\" target=\"_parent\"><img src=\"https://colab.research.google.com/assets/colab-badge.svg\" alt=\"Open In Colab\"/></a>"
      ]
    },
    {
      "cell_type": "markdown",
      "source": [
        "## Objective\n",
        "* Intro to NN, CNN, RNN, LSTM, GNN"
      ],
      "metadata": {
        "id": "FcFubrwAuWm7"
      }
    },
    {
      "cell_type": "code",
      "execution_count": null,
      "metadata": {
        "id": "Pp3wAa_THSeD"
      },
      "outputs": [],
      "source": [
        "https://en.wikipedia.org/wiki/Universal_approximation_theorem"
      ]
    },
    {
      "cell_type": "markdown",
      "source": [
        "## Interprebility of ML models:\n",
        "* https://arxiv.org/pdf/2001.10916.pdf"
      ],
      "metadata": {
        "id": "zjSmJD6HZgDe"
      }
    },
    {
      "cell_type": "markdown",
      "source": [
        "### Explanaible AI: (critical for high stakes decisions)\n",
        "* Curve: Interpretabilty vs Performance(accuracy)\n",
        "* Computer program is interpreble, formally verifiable, provable security is possible, easier adoption\n",
        "* Methods:(http://ex.pegg.io/)   \n",
        "  * Neural representations \n",
        "  * Model agnostic methods\n",
        "  * Model specific methods\n",
        "  * Example based "
      ],
      "metadata": {
        "id": "-Chx81_Mr4VV"
      }
    }
  ]
}