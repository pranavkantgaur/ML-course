{
  "nbformat": 4,
  "nbformat_minor": 0,
  "metadata": {
    "colab": {
      "name": "ml-x-dimensionality-reduction.ipynb",
      "provenance": [],
      "collapsed_sections": [],
      "authorship_tag": "ABX9TyO3qLs8ZZzFMiqhHoHr+HrH",
      "include_colab_link": true
    },
    "kernelspec": {
      "name": "python3",
      "display_name": "Python 3"
    },
    "language_info": {
      "name": "python"
    }
  },
  "cells": [
    {
      "cell_type": "markdown",
      "metadata": {
        "id": "view-in-github",
        "colab_type": "text"
      },
      "source": [
        "<a href=\"https://colab.research.google.com/github/pranavkantgaur/ML-course/blob/main/ml_x_dimensionality_reduction.ipynb\" target=\"_parent\"><img src=\"https://colab.research.google.com/assets/colab-badge.svg\" alt=\"Open In Colab\"/></a>"
      ]
    },
    {
      "cell_type": "markdown",
      "source": [
        "## Eigen value and Eigen vectors\n"
      ],
      "metadata": {
        "id": "ILyDK2ZnADqT"
      }
    },
    {
      "cell_type": "markdown",
      "source": [
        "## PCA\n",
        "* Concepts:\n",
        "  * The main idea behind this technique is to reduce the dimensionality of data that is highly correlated by transforming the original set of vectors to a new set which is known as Principal component.\n",
        "  * Transformations: https://miro.medium.com/max/1400/1*LwmAwpNTGQ_a7n--n3LQpA.jpeg\n",
        "  * Linear dimesnionality reduction technique\n",
        "  * Methods of computing PCA:\n",
        "    * Data matrix->Covariance matrix->Eigendecomposition->Extract primary components\n",
        "    * Data matrix->SVD->Extract primary components\n",
        "* Examples:\n",
        "  * No. of rooms, carpet area, proximity to park(unrelated variable), prox. to bus station, prox. to train station(dependant on bus stat.), prox. to market, flat-price"
      ],
      "metadata": {
        "id": "BeEmf2-yAVVd"
      }
    },
    {
      "cell_type": "code",
      "execution_count": 1,
      "metadata": {
        "id": "6JRnTSVC5lRV"
      },
      "outputs": [],
      "source": [
        "import numpy as np\n",
        "from sklearn.decomposition import PCA\n",
        "import pandas as pd"
      ]
    },
    {
      "cell_type": "code",
      "source": [
        "X =  pd.read_csv('/content/car_evaluation.csv')"
      ],
      "metadata": {
        "id": "Y26aQHeQAjdM"
      },
      "execution_count": 19,
      "outputs": []
    },
    {
      "cell_type": "code",
      "source": [
        "y_labels = X['decision'].unique()\n",
        "y = X['decision']\n",
        "#y = X['decision']\n",
        "#y_unique_values = y.unique()\n",
        "#print(X['decision'])"
      ],
      "metadata": {
        "id": "XVqpBBEUHFOs"
      },
      "execution_count": 35,
      "outputs": []
    },
    {
      "cell_type": "code",
      "source": [
        "print(y)"
      ],
      "metadata": {
        "colab": {
          "base_uri": "https://localhost:8080/"
        },
        "id": "5POXyAHLIU2r",
        "outputId": "c5d19736-f560-4d73-d16b-c55dcee131cf"
      },
      "execution_count": 36,
      "outputs": [
        {
          "output_type": "stream",
          "name": "stdout",
          "text": [
            "0       unacc\n",
            "1       unacc\n",
            "2       unacc\n",
            "3       unacc\n",
            "4       unacc\n",
            "        ...  \n",
            "1723     good\n",
            "1724    vgood\n",
            "1725    unacc\n",
            "1726     good\n",
            "1727    vgood\n",
            "Name: decision, Length: 1728, dtype: object\n"
          ]
        }
      ]
    },
    {
      "cell_type": "code",
      "source": [
        "#X.head()\n",
        "X = X.drop('decision', axis = 1)\n",
        "X.head()"
      ],
      "metadata": {
        "colab": {
          "base_uri": "https://localhost:8080/",
          "height": 206
        },
        "id": "v_SZZS_AA0SE",
        "outputId": "90a2bf0f-dd69-49b2-ab9d-95bb591cbb30"
      },
      "execution_count": 3,
      "outputs": [
        {
          "output_type": "execute_result",
          "data": {
            "text/plain": [
              "  buy_price maintenance_cost no_of_doors no_of_persons boot_space safety\n",
              "0     vhigh            vhigh           2             2      small    low\n",
              "1     vhigh            vhigh           2             2      small    med\n",
              "2     vhigh            vhigh           2             2      small   high\n",
              "3     vhigh            vhigh           2             2        med    low\n",
              "4     vhigh            vhigh           2             2        med    med"
            ],
            "text/html": [
              "\n",
              "  <div id=\"df-3f4216c9-a323-4878-81c6-21fe610b7b6a\">\n",
              "    <div class=\"colab-df-container\">\n",
              "      <div>\n",
              "<style scoped>\n",
              "    .dataframe tbody tr th:only-of-type {\n",
              "        vertical-align: middle;\n",
              "    }\n",
              "\n",
              "    .dataframe tbody tr th {\n",
              "        vertical-align: top;\n",
              "    }\n",
              "\n",
              "    .dataframe thead th {\n",
              "        text-align: right;\n",
              "    }\n",
              "</style>\n",
              "<table border=\"1\" class=\"dataframe\">\n",
              "  <thead>\n",
              "    <tr style=\"text-align: right;\">\n",
              "      <th></th>\n",
              "      <th>buy_price</th>\n",
              "      <th>maintenance_cost</th>\n",
              "      <th>no_of_doors</th>\n",
              "      <th>no_of_persons</th>\n",
              "      <th>boot_space</th>\n",
              "      <th>safety</th>\n",
              "    </tr>\n",
              "  </thead>\n",
              "  <tbody>\n",
              "    <tr>\n",
              "      <th>0</th>\n",
              "      <td>vhigh</td>\n",
              "      <td>vhigh</td>\n",
              "      <td>2</td>\n",
              "      <td>2</td>\n",
              "      <td>small</td>\n",
              "      <td>low</td>\n",
              "    </tr>\n",
              "    <tr>\n",
              "      <th>1</th>\n",
              "      <td>vhigh</td>\n",
              "      <td>vhigh</td>\n",
              "      <td>2</td>\n",
              "      <td>2</td>\n",
              "      <td>small</td>\n",
              "      <td>med</td>\n",
              "    </tr>\n",
              "    <tr>\n",
              "      <th>2</th>\n",
              "      <td>vhigh</td>\n",
              "      <td>vhigh</td>\n",
              "      <td>2</td>\n",
              "      <td>2</td>\n",
              "      <td>small</td>\n",
              "      <td>high</td>\n",
              "    </tr>\n",
              "    <tr>\n",
              "      <th>3</th>\n",
              "      <td>vhigh</td>\n",
              "      <td>vhigh</td>\n",
              "      <td>2</td>\n",
              "      <td>2</td>\n",
              "      <td>med</td>\n",
              "      <td>low</td>\n",
              "    </tr>\n",
              "    <tr>\n",
              "      <th>4</th>\n",
              "      <td>vhigh</td>\n",
              "      <td>vhigh</td>\n",
              "      <td>2</td>\n",
              "      <td>2</td>\n",
              "      <td>med</td>\n",
              "      <td>med</td>\n",
              "    </tr>\n",
              "  </tbody>\n",
              "</table>\n",
              "</div>\n",
              "      <button class=\"colab-df-convert\" onclick=\"convertToInteractive('df-3f4216c9-a323-4878-81c6-21fe610b7b6a')\"\n",
              "              title=\"Convert this dataframe to an interactive table.\"\n",
              "              style=\"display:none;\">\n",
              "        \n",
              "  <svg xmlns=\"http://www.w3.org/2000/svg\" height=\"24px\"viewBox=\"0 0 24 24\"\n",
              "       width=\"24px\">\n",
              "    <path d=\"M0 0h24v24H0V0z\" fill=\"none\"/>\n",
              "    <path d=\"M18.56 5.44l.94 2.06.94-2.06 2.06-.94-2.06-.94-.94-2.06-.94 2.06-2.06.94zm-11 1L8.5 8.5l.94-2.06 2.06-.94-2.06-.94L8.5 2.5l-.94 2.06-2.06.94zm10 10l.94 2.06.94-2.06 2.06-.94-2.06-.94-.94-2.06-.94 2.06-2.06.94z\"/><path d=\"M17.41 7.96l-1.37-1.37c-.4-.4-.92-.59-1.43-.59-.52 0-1.04.2-1.43.59L10.3 9.45l-7.72 7.72c-.78.78-.78 2.05 0 2.83L4 21.41c.39.39.9.59 1.41.59.51 0 1.02-.2 1.41-.59l7.78-7.78 2.81-2.81c.8-.78.8-2.07 0-2.86zM5.41 20L4 18.59l7.72-7.72 1.47 1.35L5.41 20z\"/>\n",
              "  </svg>\n",
              "      </button>\n",
              "      \n",
              "  <style>\n",
              "    .colab-df-container {\n",
              "      display:flex;\n",
              "      flex-wrap:wrap;\n",
              "      gap: 12px;\n",
              "    }\n",
              "\n",
              "    .colab-df-convert {\n",
              "      background-color: #E8F0FE;\n",
              "      border: none;\n",
              "      border-radius: 50%;\n",
              "      cursor: pointer;\n",
              "      display: none;\n",
              "      fill: #1967D2;\n",
              "      height: 32px;\n",
              "      padding: 0 0 0 0;\n",
              "      width: 32px;\n",
              "    }\n",
              "\n",
              "    .colab-df-convert:hover {\n",
              "      background-color: #E2EBFA;\n",
              "      box-shadow: 0px 1px 2px rgba(60, 64, 67, 0.3), 0px 1px 3px 1px rgba(60, 64, 67, 0.15);\n",
              "      fill: #174EA6;\n",
              "    }\n",
              "\n",
              "    [theme=dark] .colab-df-convert {\n",
              "      background-color: #3B4455;\n",
              "      fill: #D2E3FC;\n",
              "    }\n",
              "\n",
              "    [theme=dark] .colab-df-convert:hover {\n",
              "      background-color: #434B5C;\n",
              "      box-shadow: 0px 1px 3px 1px rgba(0, 0, 0, 0.15);\n",
              "      filter: drop-shadow(0px 1px 2px rgba(0, 0, 0, 0.3));\n",
              "      fill: #FFFFFF;\n",
              "    }\n",
              "  </style>\n",
              "\n",
              "      <script>\n",
              "        const buttonEl =\n",
              "          document.querySelector('#df-3f4216c9-a323-4878-81c6-21fe610b7b6a button.colab-df-convert');\n",
              "        buttonEl.style.display =\n",
              "          google.colab.kernel.accessAllowed ? 'block' : 'none';\n",
              "\n",
              "        async function convertToInteractive(key) {\n",
              "          const element = document.querySelector('#df-3f4216c9-a323-4878-81c6-21fe610b7b6a');\n",
              "          const dataTable =\n",
              "            await google.colab.kernel.invokeFunction('convertToInteractive',\n",
              "                                                     [key], {});\n",
              "          if (!dataTable) return;\n",
              "\n",
              "          const docLinkHtml = 'Like what you see? Visit the ' +\n",
              "            '<a target=\"_blank\" href=https://colab.research.google.com/notebooks/data_table.ipynb>data table notebook</a>'\n",
              "            + ' to learn more about interactive tables.';\n",
              "          element.innerHTML = '';\n",
              "          dataTable['output_type'] = 'display_data';\n",
              "          await google.colab.output.renderOutput(dataTable, element);\n",
              "          const docLink = document.createElement('div');\n",
              "          docLink.innerHTML = docLinkHtml;\n",
              "          element.appendChild(docLink);\n",
              "        }\n",
              "      </script>\n",
              "    </div>\n",
              "  </div>\n",
              "  "
            ]
          },
          "metadata": {},
          "execution_count": 3
        }
      ]
    },
    {
      "cell_type": "code",
      "source": [
        ""
      ],
      "metadata": {
        "id": "0tPeBop4HC57"
      },
      "execution_count": null,
      "outputs": []
    },
    {
      "cell_type": "code",
      "source": [
        "from sklearn import preprocessing\n",
        "le = preprocessing.LabelEncoder()\n",
        "feature_list = X.columns\n",
        "print(feature_list)\n",
        "for feature in feature_list:\n",
        "  feature_column = X[feature]\n",
        "  le.fit(feature_column)\n",
        "  print(le.classes_)\n",
        "  X[feature] = le.transform(feature_column)\n",
        "\n",
        "le.fit(y)\n",
        "y = le.transform(y)"
      ],
      "metadata": {
        "colab": {
          "base_uri": "https://localhost:8080/"
        },
        "id": "3_tzALICEGnW",
        "outputId": "107b0d5a-28f0-4982-a807-ba5ec0081400"
      },
      "execution_count": 4,
      "outputs": [
        {
          "output_type": "stream",
          "name": "stdout",
          "text": [
            "Index(['buy_price', 'maintenance_cost', 'no_of_doors', 'no_of_persons',\n",
            "       'boot_space', 'safety'],\n",
            "      dtype='object')\n",
            "['high' 'low' 'med' 'vhigh']\n",
            "['high' 'low' 'med' 'vhigh']\n",
            "['2' '3' '4' '5more']\n",
            "['2' '4' 'more']\n",
            "['big' 'med' 'small']\n",
            "['high' 'low' 'med']\n"
          ]
        }
      ]
    },
    {
      "cell_type": "code",
      "source": [
        "le.fit(y)\n",
        "y = le.transform(y)"
      ],
      "metadata": {
        "id": "Cb4buOKiMfYP"
      },
      "execution_count": 31,
      "outputs": []
    },
    {
      "cell_type": "code",
      "source": [
        "print(y)"
      ],
      "metadata": {
        "colab": {
          "base_uri": "https://localhost:8080/"
        },
        "id": "t2yR8-XIMjYC",
        "outputId": "5c9a6b9e-0ccd-494c-f611-3505ab4721cf"
      },
      "execution_count": 32,
      "outputs": [
        {
          "output_type": "stream",
          "name": "stdout",
          "text": [
            "[2 0 3 1]\n"
          ]
        }
      ]
    },
    {
      "cell_type": "code",
      "source": [
        "pca = PCA(n_components=3)"
      ],
      "metadata": {
        "id": "R7UdSpEWA6L-"
      },
      "execution_count": 11,
      "outputs": []
    },
    {
      "cell_type": "code",
      "source": [
        "pca.fit(X)\n",
        "#PCA(n_components=2)\n",
        "print(pca.explained_variance_ratio_)\n",
        "print(pca.singular_values_)"
      ],
      "metadata": {
        "colab": {
          "base_uri": "https://localhost:8080/"
        },
        "id": "VaVh6vkeBQnm",
        "outputId": "b7526da2-2915-4b3d-80ff-2b54c79cc348"
      },
      "execution_count": 39,
      "outputs": [
        {
          "output_type": "stream",
          "name": "stdout",
          "text": [
            "[0.2173913 0.2173913 0.2173913]\n",
            "[46.47580015 46.47580015 46.47580015]\n"
          ]
        }
      ]
    },
    {
      "cell_type": "code",
      "source": [
        "X = pca.transform(X)"
      ],
      "metadata": {
        "id": "VsDdoAgxDqg7"
      },
      "execution_count": 13,
      "outputs": []
    },
    {
      "cell_type": "code",
      "source": [
        "import matplotlib.pyplot as plt\n",
        "from mpl_toolkits.mplot3d import Axes3D"
      ],
      "metadata": {
        "id": "qhFV9pDfGrOv"
      },
      "execution_count": 14,
      "outputs": []
    },
    {
      "cell_type": "code",
      "source": [
        "name_label = [(y, id) for id, y in enumerate(y)]\n",
        "print(name_label)"
      ],
      "metadata": {
        "colab": {
          "base_uri": "https://localhost:8080/"
        },
        "id": "OsGoF9HdJwKN",
        "outputId": "e6c9862c-735a-400e-da4f-f98986199128"
      },
      "execution_count": 37,
      "outputs": [
        {
          "output_type": "stream",
          "name": "stdout",
          "text": [
            "[('unacc', 0), ('unacc', 1), ('unacc', 2), ('unacc', 3), ('unacc', 4), ('unacc', 5), ('unacc', 6), ('unacc', 7), ('unacc', 8), ('unacc', 9), ('unacc', 10), ('unacc', 11), ('unacc', 12), ('unacc', 13), ('unacc', 14), ('unacc', 15), ('unacc', 16), ('unacc', 17), ('unacc', 18), ('unacc', 19), ('unacc', 20), ('unacc', 21), ('unacc', 22), ('unacc', 23), ('unacc', 24), ('unacc', 25), ('unacc', 26), ('unacc', 27), ('unacc', 28), ('unacc', 29), ('unacc', 30), ('unacc', 31), ('unacc', 32), ('unacc', 33), ('unacc', 34), ('unacc', 35), ('unacc', 36), ('unacc', 37), ('unacc', 38), ('unacc', 39), ('unacc', 40), ('unacc', 41), ('unacc', 42), ('unacc', 43), ('unacc', 44), ('unacc', 45), ('unacc', 46), ('unacc', 47), ('unacc', 48), ('unacc', 49), ('unacc', 50), ('unacc', 51), ('unacc', 52), ('unacc', 53), ('unacc', 54), ('unacc', 55), ('unacc', 56), ('unacc', 57), ('unacc', 58), ('unacc', 59), ('unacc', 60), ('unacc', 61), ('unacc', 62), ('unacc', 63), ('unacc', 64), ('unacc', 65), ('unacc', 66), ('unacc', 67), ('unacc', 68), ('unacc', 69), ('unacc', 70), ('unacc', 71), ('unacc', 72), ('unacc', 73), ('unacc', 74), ('unacc', 75), ('unacc', 76), ('unacc', 77), ('unacc', 78), ('unacc', 79), ('unacc', 80), ('unacc', 81), ('unacc', 82), ('unacc', 83), ('unacc', 84), ('unacc', 85), ('unacc', 86), ('unacc', 87), ('unacc', 88), ('unacc', 89), ('unacc', 90), ('unacc', 91), ('unacc', 92), ('unacc', 93), ('unacc', 94), ('unacc', 95), ('unacc', 96), ('unacc', 97), ('unacc', 98), ('unacc', 99), ('unacc', 100), ('unacc', 101), ('unacc', 102), ('unacc', 103), ('unacc', 104), ('unacc', 105), ('unacc', 106), ('unacc', 107), ('unacc', 108), ('unacc', 109), ('unacc', 110), ('unacc', 111), ('unacc', 112), ('unacc', 113), ('unacc', 114), ('unacc', 115), ('unacc', 116), ('unacc', 117), ('unacc', 118), ('unacc', 119), ('unacc', 120), ('unacc', 121), ('unacc', 122), ('unacc', 123), ('unacc', 124), ('unacc', 125), ('unacc', 126), ('unacc', 127), ('unacc', 128), ('unacc', 129), ('unacc', 130), ('unacc', 131), ('unacc', 132), ('unacc', 133), ('unacc', 134), ('unacc', 135), ('unacc', 136), ('unacc', 137), ('unacc', 138), ('unacc', 139), ('unacc', 140), ('unacc', 141), ('unacc', 142), ('unacc', 143), ('unacc', 144), ('unacc', 145), ('unacc', 146), ('unacc', 147), ('unacc', 148), ('unacc', 149), ('unacc', 150), ('unacc', 151), ('unacc', 152), ('unacc', 153), ('unacc', 154), ('unacc', 155), ('unacc', 156), ('unacc', 157), ('unacc', 158), ('unacc', 159), ('unacc', 160), ('unacc', 161), ('unacc', 162), ('unacc', 163), ('unacc', 164), ('unacc', 165), ('unacc', 166), ('unacc', 167), ('unacc', 168), ('unacc', 169), ('unacc', 170), ('unacc', 171), ('unacc', 172), ('unacc', 173), ('unacc', 174), ('unacc', 175), ('unacc', 176), ('unacc', 177), ('unacc', 178), ('unacc', 179), ('unacc', 180), ('unacc', 181), ('unacc', 182), ('unacc', 183), ('unacc', 184), ('unacc', 185), ('unacc', 186), ('unacc', 187), ('unacc', 188), ('unacc', 189), ('unacc', 190), ('unacc', 191), ('unacc', 192), ('unacc', 193), ('unacc', 194), ('unacc', 195), ('unacc', 196), ('unacc', 197), ('unacc', 198), ('unacc', 199), ('unacc', 200), ('unacc', 201), ('unacc', 202), ('unacc', 203), ('unacc', 204), ('unacc', 205), ('unacc', 206), ('unacc', 207), ('unacc', 208), ('unacc', 209), ('unacc', 210), ('unacc', 211), ('unacc', 212), ('unacc', 213), ('unacc', 214), ('unacc', 215), ('unacc', 216), ('unacc', 217), ('unacc', 218), ('unacc', 219), ('unacc', 220), ('unacc', 221), ('unacc', 222), ('unacc', 223), ('unacc', 224), ('unacc', 225), ('unacc', 226), ('acc', 227), ('unacc', 228), ('unacc', 229), ('acc', 230), ('unacc', 231), ('acc', 232), ('acc', 233), ('unacc', 234), ('unacc', 235), ('unacc', 236), ('unacc', 237), ('unacc', 238), ('acc', 239), ('unacc', 240), ('acc', 241), ('acc', 242), ('unacc', 243), ('unacc', 244), ('unacc', 245), ('unacc', 246), ('unacc', 247), ('unacc', 248), ('unacc', 249), ('unacc', 250), ('unacc', 251), ('unacc', 252), ('unacc', 253), ('acc', 254), ('unacc', 255), ('unacc', 256), ('acc', 257), ('unacc', 258), ('acc', 259), ('acc', 260), ('unacc', 261), ('unacc', 262), ('acc', 263), ('unacc', 264), ('acc', 265), ('acc', 266), ('unacc', 267), ('acc', 268), ('acc', 269), ('unacc', 270), ('unacc', 271), ('unacc', 272), ('unacc', 273), ('unacc', 274), ('unacc', 275), ('unacc', 276), ('unacc', 277), ('unacc', 278), ('unacc', 279), ('unacc', 280), ('acc', 281), ('unacc', 282), ('acc', 283), ('acc', 284), ('unacc', 285), ('acc', 286), ('acc', 287), ('unacc', 288), ('unacc', 289), ('acc', 290), ('unacc', 291), ('acc', 292), ('acc', 293), ('unacc', 294), ('acc', 295), ('acc', 296), ('unacc', 297), ('unacc', 298), ('unacc', 299), ('unacc', 300), ('unacc', 301), ('unacc', 302), ('unacc', 303), ('unacc', 304), ('unacc', 305), ('unacc', 306), ('unacc', 307), ('acc', 308), ('unacc', 309), ('acc', 310), ('acc', 311), ('unacc', 312), ('acc', 313), ('acc', 314), ('unacc', 315), ('unacc', 316), ('acc', 317), ('unacc', 318), ('acc', 319), ('acc', 320), ('unacc', 321), ('acc', 322), ('acc', 323), ('unacc', 324), ('unacc', 325), ('unacc', 326), ('unacc', 327), ('unacc', 328), ('unacc', 329), ('unacc', 330), ('unacc', 331), ('unacc', 332), ('unacc', 333), ('unacc', 334), ('acc', 335), ('unacc', 336), ('unacc', 337), ('acc', 338), ('unacc', 339), ('acc', 340), ('acc', 341), ('unacc', 342), ('unacc', 343), ('unacc', 344), ('unacc', 345), ('unacc', 346), ('acc', 347), ('unacc', 348), ('acc', 349), ('acc', 350), ('unacc', 351), ('unacc', 352), ('unacc', 353), ('unacc', 354), ('unacc', 355), ('unacc', 356), ('unacc', 357), ('unacc', 358), ('unacc', 359), ('unacc', 360), ('unacc', 361), ('acc', 362), ('unacc', 363), ('unacc', 364), ('acc', 365), ('unacc', 366), ('acc', 367), ('acc', 368), ('unacc', 369), ('unacc', 370), ('acc', 371), ('unacc', 372), ('acc', 373), ('acc', 374), ('unacc', 375), ('acc', 376), ('acc', 377), ('unacc', 378), ('unacc', 379), ('unacc', 380), ('unacc', 381), ('unacc', 382), ('unacc', 383), ('unacc', 384), ('unacc', 385), ('unacc', 386), ('unacc', 387), ('unacc', 388), ('acc', 389), ('unacc', 390), ('acc', 391), ('acc', 392), ('unacc', 393), ('acc', 394), ('acc', 395), ('unacc', 396), ('unacc', 397), ('acc', 398), ('unacc', 399), ('acc', 400), ('acc', 401), ('unacc', 402), ('acc', 403), ('acc', 404), ('unacc', 405), ('unacc', 406), ('unacc', 407), ('unacc', 408), ('unacc', 409), ('unacc', 410), ('unacc', 411), ('unacc', 412), ('unacc', 413), ('unacc', 414), ('unacc', 415), ('acc', 416), ('unacc', 417), ('acc', 418), ('acc', 419), ('unacc', 420), ('acc', 421), ('acc', 422), ('unacc', 423), ('unacc', 424), ('acc', 425), ('unacc', 426), ('acc', 427), ('acc', 428), ('unacc', 429), ('acc', 430), ('acc', 431), ('unacc', 432), ('unacc', 433), ('unacc', 434), ('unacc', 435), ('unacc', 436), ('unacc', 437), ('unacc', 438), ('unacc', 439), ('unacc', 440), ('unacc', 441), ('unacc', 442), ('unacc', 443), ('unacc', 444), ('unacc', 445), ('unacc', 446), ('unacc', 447), ('unacc', 448), ('unacc', 449), ('unacc', 450), ('unacc', 451), ('unacc', 452), ('unacc', 453), ('unacc', 454), ('unacc', 455), ('unacc', 456), ('unacc', 457), ('unacc', 458), ('unacc', 459), ('unacc', 460), ('unacc', 461), ('unacc', 462), ('unacc', 463), ('unacc', 464), ('unacc', 465), ('unacc', 466), ('unacc', 467), ('unacc', 468), ('unacc', 469), ('unacc', 470), ('unacc', 471), ('unacc', 472), ('unacc', 473), ('unacc', 474), ('unacc', 475), ('unacc', 476), ('unacc', 477), ('unacc', 478), ('unacc', 479), ('unacc', 480), ('unacc', 481), ('unacc', 482), ('unacc', 483), ('unacc', 484), ('unacc', 485), ('unacc', 486), ('unacc', 487), ('unacc', 488), ('unacc', 489), ('unacc', 490), ('unacc', 491), ('unacc', 492), ('unacc', 493), ('unacc', 494), ('unacc', 495), ('unacc', 496), ('unacc', 497), ('unacc', 498), ('unacc', 499), ('unacc', 500), ('unacc', 501), ('unacc', 502), ('unacc', 503), ('unacc', 504), ('unacc', 505), ('unacc', 506), ('unacc', 507), ('unacc', 508), ('unacc', 509), ('unacc', 510), ('unacc', 511), ('unacc', 512), ('unacc', 513), ('unacc', 514), ('unacc', 515), ('unacc', 516), ('unacc', 517), ('unacc', 518), ('unacc', 519), ('unacc', 520), ('unacc', 521), ('unacc', 522), ('unacc', 523), ('unacc', 524), ('unacc', 525), ('unacc', 526), ('unacc', 527), ('unacc', 528), ('unacc', 529), ('unacc', 530), ('unacc', 531), ('unacc', 532), ('unacc', 533), ('unacc', 534), ('unacc', 535), ('unacc', 536), ('unacc', 537), ('unacc', 538), ('unacc', 539), ('unacc', 540), ('unacc', 541), ('unacc', 542), ('unacc', 543), ('unacc', 544), ('unacc', 545), ('unacc', 546), ('unacc', 547), ('unacc', 548), ('unacc', 549), ('unacc', 550), ('acc', 551), ('unacc', 552), ('unacc', 553), ('acc', 554), ('unacc', 555), ('acc', 556), ('acc', 557), ('unacc', 558), ('unacc', 559), ('unacc', 560), ('unacc', 561), ('unacc', 562), ('acc', 563), ('unacc', 564), ('acc', 565), ('acc', 566), ('unacc', 567), ('unacc', 568), ('unacc', 569), ('unacc', 570), ('unacc', 571), ('unacc', 572), ('unacc', 573), ('unacc', 574), ('unacc', 575), ('unacc', 576), ('unacc', 577), ('acc', 578), ('unacc', 579), ('unacc', 580), ('acc', 581), ('unacc', 582), ('acc', 583), ('acc', 584), ('unacc', 585), ('unacc', 586), ('acc', 587), ('unacc', 588), ('acc', 589), ('acc', 590), ('unacc', 591), ('acc', 592), ('acc', 593), ('unacc', 594), ('unacc', 595), ('unacc', 596), ('unacc', 597), ('unacc', 598), ('unacc', 599), ('unacc', 600), ('unacc', 601), ('unacc', 602), ('unacc', 603), ('unacc', 604), ('acc', 605), ('unacc', 606), ('acc', 607), ('acc', 608), ('unacc', 609), ('acc', 610), ('acc', 611), ('unacc', 612), ('unacc', 613), ('acc', 614), ('unacc', 615), ('acc', 616), ('acc', 617), ('unacc', 618), ('acc', 619), ('acc', 620), ('unacc', 621), ('unacc', 622), ('unacc', 623), ('unacc', 624), ('unacc', 625), ('unacc', 626), ('unacc', 627), ('unacc', 628), ('unacc', 629), ('unacc', 630), ('unacc', 631), ('acc', 632), ('unacc', 633), ('acc', 634), ('acc', 635), ('unacc', 636), ('acc', 637), ('acc', 638), ('unacc', 639), ('unacc', 640), ('acc', 641), ('unacc', 642), ('acc', 643), ('acc', 644), ('unacc', 645), ('acc', 646), ('acc', 647), ('unacc', 648), ('unacc', 649), ('unacc', 650), ('unacc', 651), ('unacc', 652), ('unacc', 653), ('unacc', 654), ('unacc', 655), ('unacc', 656), ('unacc', 657), ('unacc', 658), ('acc', 659), ('unacc', 660), ('unacc', 661), ('acc', 662), ('unacc', 663), ('acc', 664), ('acc', 665), ('unacc', 666), ('unacc', 667), ('unacc', 668), ('unacc', 669), ('unacc', 670), ('acc', 671), ('unacc', 672), ('acc', 673), ('acc', 674), ('unacc', 675), ('unacc', 676), ('unacc', 677), ('unacc', 678), ('unacc', 679), ('unacc', 680), ('unacc', 681), ('unacc', 682), ('unacc', 683), ('unacc', 684), ('unacc', 685), ('acc', 686), ('unacc', 687), ('unacc', 688), ('acc', 689), ('unacc', 690), ('acc', 691), ('acc', 692), ('unacc', 693), ('unacc', 694), ('acc', 695), ('unacc', 696), ('acc', 697), ('acc', 698), ('unacc', 699), ('acc', 700), ('acc', 701), ('unacc', 702), ('unacc', 703), ('unacc', 704), ('unacc', 705), ('unacc', 706), ('unacc', 707), ('unacc', 708), ('unacc', 709), ('unacc', 710), ('unacc', 711), ('unacc', 712), ('acc', 713), ('unacc', 714), ('acc', 715), ('acc', 716), ('unacc', 717), ('acc', 718), ('acc', 719), ('unacc', 720), ('unacc', 721), ('acc', 722), ('unacc', 723), ('acc', 724), ('acc', 725), ('unacc', 726), ('acc', 727), ('acc', 728), ('unacc', 729), ('unacc', 730), ('unacc', 731), ('unacc', 732), ('unacc', 733), ('unacc', 734), ('unacc', 735), ('unacc', 736), ('unacc', 737), ('unacc', 738), ('unacc', 739), ('acc', 740), ('unacc', 741), ('acc', 742), ('acc', 743), ('unacc', 744), ('acc', 745), ('acc', 746), ('unacc', 747), ('unacc', 748), ('acc', 749), ('unacc', 750), ('acc', 751), ('acc', 752), ('unacc', 753), ('acc', 754), ('acc', 755), ('unacc', 756), ('unacc', 757), ('unacc', 758), ('unacc', 759), ('unacc', 760), ('unacc', 761), ('unacc', 762), ('unacc', 763), ('unacc', 764), ('unacc', 765), ('unacc', 766), ('acc', 767), ('unacc', 768), ('unacc', 769), ('acc', 770), ('unacc', 771), ('acc', 772), ('acc', 773), ('unacc', 774), ('unacc', 775), ('unacc', 776), ('unacc', 777), ('unacc', 778), ('acc', 779), ('unacc', 780), ('acc', 781), ('acc', 782), ('unacc', 783), ('unacc', 784), ('unacc', 785), ('unacc', 786), ('unacc', 787), ('unacc', 788), ('unacc', 789), ('unacc', 790), ('unacc', 791), ('unacc', 792), ('unacc', 793), ('acc', 794), ('unacc', 795), ('unacc', 796), ('acc', 797), ('unacc', 798), ('acc', 799), ('acc', 800), ('unacc', 801), ('unacc', 802), ('acc', 803), ('unacc', 804), ('acc', 805), ('acc', 806), ('unacc', 807), ('acc', 808), ('acc', 809), ('unacc', 810), ('unacc', 811), ('unacc', 812), ('unacc', 813), ('unacc', 814), ('unacc', 815), ('unacc', 816), ('unacc', 817), ('unacc', 818), ('unacc', 819), ('unacc', 820), ('acc', 821), ('unacc', 822), ('acc', 823), ('acc', 824), ('unacc', 825), ('acc', 826), ('acc', 827), ('unacc', 828), ('unacc', 829), ('acc', 830), ('unacc', 831), ('acc', 832), ('acc', 833), ('unacc', 834), ('acc', 835), ('acc', 836), ('unacc', 837), ('unacc', 838), ('unacc', 839), ('unacc', 840), ('unacc', 841), ('unacc', 842), ('unacc', 843), ('unacc', 844), ('unacc', 845), ('unacc', 846), ('unacc', 847), ('acc', 848), ('unacc', 849), ('acc', 850), ('acc', 851), ('unacc', 852), ('acc', 853), ('acc', 854), ('unacc', 855), ('unacc', 856), ('acc', 857), ('unacc', 858), ('acc', 859), ('acc', 860), ('unacc', 861), ('acc', 862), ('acc', 863), ('unacc', 864), ('unacc', 865), ('unacc', 866), ('unacc', 867), ('unacc', 868), ('unacc', 869), ('unacc', 870), ('unacc', 871), ('unacc', 872), ('unacc', 873), ('unacc', 874), ('acc', 875), ('unacc', 876), ('unacc', 877), ('acc', 878), ('unacc', 879), ('acc', 880), ('acc', 881), ('unacc', 882), ('unacc', 883), ('unacc', 884), ('unacc', 885), ('unacc', 886), ('acc', 887), ('unacc', 888), ('acc', 889), ('acc', 890), ('unacc', 891), ('unacc', 892), ('unacc', 893), ('unacc', 894), ('unacc', 895), ('unacc', 896), ('unacc', 897), ('unacc', 898), ('unacc', 899), ('unacc', 900), ('unacc', 901), ('acc', 902), ('unacc', 903), ('unacc', 904), ('acc', 905), ('unacc', 906), ('acc', 907), ('acc', 908), ('unacc', 909), ('unacc', 910), ('acc', 911), ('unacc', 912), ('acc', 913), ('acc', 914), ('unacc', 915), ('acc', 916), ('acc', 917), ('unacc', 918), ('unacc', 919), ('unacc', 920), ('unacc', 921), ('unacc', 922), ('unacc', 923), ('unacc', 924), ('unacc', 925), ('unacc', 926), ('unacc', 927), ('unacc', 928), ('acc', 929), ('unacc', 930), ('acc', 931), ('acc', 932), ('unacc', 933), ('acc', 934), ('acc', 935), ('unacc', 936), ('unacc', 937), ('acc', 938), ('unacc', 939), ('acc', 940), ('acc', 941), ('unacc', 942), ('acc', 943), ('acc', 944), ('unacc', 945), ('unacc', 946), ('unacc', 947), ('unacc', 948), ('unacc', 949), ('unacc', 950), ('unacc', 951), ('unacc', 952), ('unacc', 953), ('unacc', 954), ('unacc', 955), ('acc', 956), ('unacc', 957), ('acc', 958), ('acc', 959), ('unacc', 960), ('acc', 961), ('acc', 962), ('unacc', 963), ('unacc', 964), ('acc', 965), ('unacc', 966), ('acc', 967), ('acc', 968), ('unacc', 969), ('acc', 970), ('acc', 971), ('unacc', 972), ('unacc', 973), ('unacc', 974), ('unacc', 975), ('unacc', 976), ('unacc', 977), ('unacc', 978), ('unacc', 979), ('unacc', 980), ('unacc', 981), ('unacc', 982), ('acc', 983), ('unacc', 984), ('unacc', 985), ('acc', 986), ('unacc', 987), ('acc', 988), ('acc', 989), ('unacc', 990), ('unacc', 991), ('unacc', 992), ('unacc', 993), ('unacc', 994), ('acc', 995), ('unacc', 996), ('acc', 997), ('acc', 998), ('unacc', 999), ('unacc', 1000), ('unacc', 1001), ('unacc', 1002), ('unacc', 1003), ('unacc', 1004), ('unacc', 1005), ('unacc', 1006), ('unacc', 1007), ('unacc', 1008), ('unacc', 1009), ('acc', 1010), ('unacc', 1011), ('unacc', 1012), ('acc', 1013), ('unacc', 1014), ('acc', 1015), ('acc', 1016), ('unacc', 1017), ('unacc', 1018), ('acc', 1019), ('unacc', 1020), ('acc', 1021), ('acc', 1022), ('unacc', 1023), ('acc', 1024), ('acc', 1025), ('unacc', 1026), ('unacc', 1027), ('unacc', 1028), ('unacc', 1029), ('unacc', 1030), ('unacc', 1031), ('unacc', 1032), ('unacc', 1033), ('unacc', 1034), ('unacc', 1035), ('unacc', 1036), ('acc', 1037), ('unacc', 1038), ('acc', 1039), ('acc', 1040), ('unacc', 1041), ('acc', 1042), ('acc', 1043), ('unacc', 1044), ('unacc', 1045), ('acc', 1046), ('unacc', 1047), ('acc', 1048), ('acc', 1049), ('unacc', 1050), ('acc', 1051), ('acc', 1052), ('unacc', 1053), ('unacc', 1054), ('unacc', 1055), ('unacc', 1056), ('unacc', 1057), ('unacc', 1058), ('unacc', 1059), ('unacc', 1060), ('unacc', 1061), ('unacc', 1062), ('unacc', 1063), ('acc', 1064), ('unacc', 1065), ('acc', 1066), ('acc', 1067), ('unacc', 1068), ('acc', 1069), ('acc', 1070), ('unacc', 1071), ('unacc', 1072), ('acc', 1073), ('unacc', 1074), ('acc', 1075), ('acc', 1076), ('unacc', 1077), ('acc', 1078), ('acc', 1079), ('unacc', 1080), ('unacc', 1081), ('unacc', 1082), ('unacc', 1083), ('unacc', 1084), ('unacc', 1085), ('unacc', 1086), ('unacc', 1087), ('unacc', 1088), ('unacc', 1089), ('acc', 1090), ('acc', 1091), ('unacc', 1092), ('acc', 1093), ('acc', 1094), ('unacc', 1095), ('acc', 1096), ('vgood', 1097), ('unacc', 1098), ('unacc', 1099), ('unacc', 1100), ('unacc', 1101), ('acc', 1102), ('acc', 1103), ('unacc', 1104), ('acc', 1105), ('vgood', 1106), ('unacc', 1107), ('unacc', 1108), ('unacc', 1109), ('unacc', 1110), ('unacc', 1111), ('unacc', 1112), ('unacc', 1113), ('unacc', 1114), ('unacc', 1115), ('unacc', 1116), ('acc', 1117), ('acc', 1118), ('unacc', 1119), ('acc', 1120), ('acc', 1121), ('unacc', 1122), ('acc', 1123), ('vgood', 1124), ('unacc', 1125), ('acc', 1126), ('acc', 1127), ('unacc', 1128), ('acc', 1129), ('vgood', 1130), ('unacc', 1131), ('acc', 1132), ('vgood', 1133), ('unacc', 1134), ('unacc', 1135), ('unacc', 1136), ('unacc', 1137), ('unacc', 1138), ('unacc', 1139), ('unacc', 1140), ('unacc', 1141), ('unacc', 1142), ('unacc', 1143), ('acc', 1144), ('acc', 1145), ('unacc', 1146), ('acc', 1147), ('vgood', 1148), ('unacc', 1149), ('acc', 1150), ('vgood', 1151), ('unacc', 1152), ('acc', 1153), ('acc', 1154), ('unacc', 1155), ('acc', 1156), ('vgood', 1157), ('unacc', 1158), ('acc', 1159), ('vgood', 1160), ('unacc', 1161), ('unacc', 1162), ('unacc', 1163), ('unacc', 1164), ('unacc', 1165), ('unacc', 1166), ('unacc', 1167), ('unacc', 1168), ('unacc', 1169), ('unacc', 1170), ('acc', 1171), ('acc', 1172), ('unacc', 1173), ('acc', 1174), ('vgood', 1175), ('unacc', 1176), ('acc', 1177), ('vgood', 1178), ('unacc', 1179), ('acc', 1180), ('acc', 1181), ('unacc', 1182), ('acc', 1183), ('vgood', 1184), ('unacc', 1185), ('acc', 1186), ('vgood', 1187), ('unacc', 1188), ('unacc', 1189), ('unacc', 1190), ('unacc', 1191), ('unacc', 1192), ('unacc', 1193), ('unacc', 1194), ('unacc', 1195), ('unacc', 1196), ('unacc', 1197), ('acc', 1198), ('good', 1199), ('unacc', 1200), ('acc', 1201), ('good', 1202), ('unacc', 1203), ('good', 1204), ('vgood', 1205), ('unacc', 1206), ('unacc', 1207), ('unacc', 1208), ('unacc', 1209), ('acc', 1210), ('good', 1211), ('unacc', 1212), ('good', 1213), ('vgood', 1214), ('unacc', 1215), ('unacc', 1216), ('unacc', 1217), ('unacc', 1218), ('unacc', 1219), ('unacc', 1220), ('unacc', 1221), ('unacc', 1222), ('unacc', 1223), ('unacc', 1224), ('acc', 1225), ('good', 1226), ('unacc', 1227), ('acc', 1228), ('good', 1229), ('unacc', 1230), ('good', 1231), ('vgood', 1232), ('unacc', 1233), ('acc', 1234), ('good', 1235), ('unacc', 1236), ('good', 1237), ('vgood', 1238), ('unacc', 1239), ('good', 1240), ('vgood', 1241), ('unacc', 1242), ('unacc', 1243), ('unacc', 1244), ('unacc', 1245), ('unacc', 1246), ('unacc', 1247), ('unacc', 1248), ('unacc', 1249), ('unacc', 1250), ('unacc', 1251), ('acc', 1252), ('good', 1253), ('unacc', 1254), ('good', 1255), ('vgood', 1256), ('unacc', 1257), ('good', 1258), ('vgood', 1259), ('unacc', 1260), ('acc', 1261), ('good', 1262), ('unacc', 1263), ('good', 1264), ('vgood', 1265), ('unacc', 1266), ('good', 1267), ('vgood', 1268), ('unacc', 1269), ('unacc', 1270), ('unacc', 1271), ('unacc', 1272), ('unacc', 1273), ('unacc', 1274), ('unacc', 1275), ('unacc', 1276), ('unacc', 1277), ('unacc', 1278), ('acc', 1279), ('good', 1280), ('unacc', 1281), ('good', 1282), ('vgood', 1283), ('unacc', 1284), ('good', 1285), ('vgood', 1286), ('unacc', 1287), ('acc', 1288), ('good', 1289), ('unacc', 1290), ('good', 1291), ('vgood', 1292), ('unacc', 1293), ('good', 1294), ('vgood', 1295), ('unacc', 1296), ('unacc', 1297), ('unacc', 1298), ('unacc', 1299), ('unacc', 1300), ('unacc', 1301), ('unacc', 1302), ('unacc', 1303), ('unacc', 1304), ('unacc', 1305), ('unacc', 1306), ('acc', 1307), ('unacc', 1308), ('unacc', 1309), ('acc', 1310), ('unacc', 1311), ('acc', 1312), ('acc', 1313), ('unacc', 1314), ('unacc', 1315), ('unacc', 1316), ('unacc', 1317), ('unacc', 1318), ('acc', 1319), ('unacc', 1320), ('acc', 1321), ('acc', 1322), ('unacc', 1323), ('unacc', 1324), ('unacc', 1325), ('unacc', 1326), ('unacc', 1327), ('unacc', 1328), ('unacc', 1329), ('unacc', 1330), ('unacc', 1331), ('unacc', 1332), ('unacc', 1333), ('acc', 1334), ('unacc', 1335), ('unacc', 1336), ('acc', 1337), ('unacc', 1338), ('acc', 1339), ('acc', 1340), ('unacc', 1341), ('unacc', 1342), ('acc', 1343), ('unacc', 1344), ('acc', 1345), ('acc', 1346), ('unacc', 1347), ('acc', 1348), ('acc', 1349), ('unacc', 1350), ('unacc', 1351), ('unacc', 1352), ('unacc', 1353), ('unacc', 1354), ('unacc', 1355), ('unacc', 1356), ('unacc', 1357), ('unacc', 1358), ('unacc', 1359), ('unacc', 1360), ('acc', 1361), ('unacc', 1362), ('acc', 1363), ('acc', 1364), ('unacc', 1365), ('acc', 1366), ('acc', 1367), ('unacc', 1368), ('unacc', 1369), ('acc', 1370), ('unacc', 1371), ('acc', 1372), ('acc', 1373), ('unacc', 1374), ('acc', 1375), ('acc', 1376), ('unacc', 1377), ('unacc', 1378), ('unacc', 1379), ('unacc', 1380), ('unacc', 1381), ('unacc', 1382), ('unacc', 1383), ('unacc', 1384), ('unacc', 1385), ('unacc', 1386), ('unacc', 1387), ('acc', 1388), ('unacc', 1389), ('acc', 1390), ('acc', 1391), ('unacc', 1392), ('acc', 1393), ('acc', 1394), ('unacc', 1395), ('unacc', 1396), ('acc', 1397), ('unacc', 1398), ('acc', 1399), ('acc', 1400), ('unacc', 1401), ('acc', 1402), ('acc', 1403), ('unacc', 1404), ('unacc', 1405), ('unacc', 1406), ('unacc', 1407), ('unacc', 1408), ('unacc', 1409), ('unacc', 1410), ('unacc', 1411), ('unacc', 1412), ('unacc', 1413), ('acc', 1414), ('acc', 1415), ('unacc', 1416), ('acc', 1417), ('acc', 1418), ('unacc', 1419), ('acc', 1420), ('vgood', 1421), ('unacc', 1422), ('unacc', 1423), ('unacc', 1424), ('unacc', 1425), ('acc', 1426), ('acc', 1427), ('unacc', 1428), ('acc', 1429), ('vgood', 1430), ('unacc', 1431), ('unacc', 1432), ('unacc', 1433), ('unacc', 1434), ('unacc', 1435), ('unacc', 1436), ('unacc', 1437), ('unacc', 1438), ('unacc', 1439), ('unacc', 1440), ('acc', 1441), ('acc', 1442), ('unacc', 1443), ('acc', 1444), ('acc', 1445), ('unacc', 1446), ('acc', 1447), ('vgood', 1448), ('unacc', 1449), ('acc', 1450), ('acc', 1451), ('unacc', 1452), ('acc', 1453), ('vgood', 1454), ('unacc', 1455), ('acc', 1456), ('vgood', 1457), ('unacc', 1458), ('unacc', 1459), ('unacc', 1460), ('unacc', 1461), ('unacc', 1462), ('unacc', 1463), ('unacc', 1464), ('unacc', 1465), ('unacc', 1466), ('unacc', 1467), ('acc', 1468), ('acc', 1469), ('unacc', 1470), ('acc', 1471), ('vgood', 1472), ('unacc', 1473), ('acc', 1474), ('vgood', 1475), ('unacc', 1476), ('acc', 1477), ('acc', 1478), ('unacc', 1479), ('acc', 1480), ('vgood', 1481), ('unacc', 1482), ('acc', 1483), ('vgood', 1484), ('unacc', 1485), ('unacc', 1486), ('unacc', 1487), ('unacc', 1488), ('unacc', 1489), ('unacc', 1490), ('unacc', 1491), ('unacc', 1492), ('unacc', 1493), ('unacc', 1494), ('acc', 1495), ('acc', 1496), ('unacc', 1497), ('acc', 1498), ('vgood', 1499), ('unacc', 1500), ('acc', 1501), ('vgood', 1502), ('unacc', 1503), ('acc', 1504), ('acc', 1505), ('unacc', 1506), ('acc', 1507), ('vgood', 1508), ('unacc', 1509), ('acc', 1510), ('vgood', 1511), ('unacc', 1512), ('unacc', 1513), ('unacc', 1514), ('unacc', 1515), ('unacc', 1516), ('unacc', 1517), ('unacc', 1518), ('unacc', 1519), ('unacc', 1520), ('unacc', 1521), ('acc', 1522), ('good', 1523), ('unacc', 1524), ('acc', 1525), ('good', 1526), ('unacc', 1527), ('good', 1528), ('vgood', 1529), ('unacc', 1530), ('unacc', 1531), ('unacc', 1532), ('unacc', 1533), ('acc', 1534), ('good', 1535), ('unacc', 1536), ('good', 1537), ('vgood', 1538), ('unacc', 1539), ('unacc', 1540), ('unacc', 1541), ('unacc', 1542), ('unacc', 1543), ('unacc', 1544), ('unacc', 1545), ('unacc', 1546), ('unacc', 1547), ('unacc', 1548), ('acc', 1549), ('good', 1550), ('unacc', 1551), ('acc', 1552), ('good', 1553), ('unacc', 1554), ('good', 1555), ('vgood', 1556), ('unacc', 1557), ('acc', 1558), ('good', 1559), ('unacc', 1560), ('good', 1561), ('vgood', 1562), ('unacc', 1563), ('good', 1564), ('vgood', 1565), ('unacc', 1566), ('unacc', 1567), ('unacc', 1568), ('unacc', 1569), ('unacc', 1570), ('unacc', 1571), ('unacc', 1572), ('unacc', 1573), ('unacc', 1574), ('unacc', 1575), ('acc', 1576), ('good', 1577), ('unacc', 1578), ('good', 1579), ('vgood', 1580), ('unacc', 1581), ('good', 1582), ('vgood', 1583), ('unacc', 1584), ('acc', 1585), ('good', 1586), ('unacc', 1587), ('good', 1588), ('vgood', 1589), ('unacc', 1590), ('good', 1591), ('vgood', 1592), ('unacc', 1593), ('unacc', 1594), ('unacc', 1595), ('unacc', 1596), ('unacc', 1597), ('unacc', 1598), ('unacc', 1599), ('unacc', 1600), ('unacc', 1601), ('unacc', 1602), ('acc', 1603), ('good', 1604), ('unacc', 1605), ('good', 1606), ('vgood', 1607), ('unacc', 1608), ('good', 1609), ('vgood', 1610), ('unacc', 1611), ('acc', 1612), ('good', 1613), ('unacc', 1614), ('good', 1615), ('vgood', 1616), ('unacc', 1617), ('good', 1618), ('vgood', 1619), ('unacc', 1620), ('unacc', 1621), ('unacc', 1622), ('unacc', 1623), ('unacc', 1624), ('unacc', 1625), ('unacc', 1626), ('unacc', 1627), ('unacc', 1628), ('unacc', 1629), ('acc', 1630), ('good', 1631), ('unacc', 1632), ('acc', 1633), ('good', 1634), ('unacc', 1635), ('good', 1636), ('vgood', 1637), ('unacc', 1638), ('unacc', 1639), ('unacc', 1640), ('unacc', 1641), ('acc', 1642), ('good', 1643), ('unacc', 1644), ('good', 1645), ('vgood', 1646), ('unacc', 1647), ('unacc', 1648), ('unacc', 1649), ('unacc', 1650), ('unacc', 1651), ('unacc', 1652), ('unacc', 1653), ('unacc', 1654), ('unacc', 1655), ('unacc', 1656), ('acc', 1657), ('good', 1658), ('unacc', 1659), ('acc', 1660), ('good', 1661), ('unacc', 1662), ('good', 1663), ('vgood', 1664), ('unacc', 1665), ('acc', 1666), ('good', 1667), ('unacc', 1668), ('good', 1669), ('vgood', 1670), ('unacc', 1671), ('good', 1672), ('vgood', 1673), ('unacc', 1674), ('unacc', 1675), ('unacc', 1676), ('unacc', 1677), ('unacc', 1678), ('unacc', 1679), ('unacc', 1680), ('unacc', 1681), ('unacc', 1682), ('unacc', 1683), ('acc', 1684), ('good', 1685), ('unacc', 1686), ('good', 1687), ('vgood', 1688), ('unacc', 1689), ('good', 1690), ('vgood', 1691), ('unacc', 1692), ('acc', 1693), ('good', 1694), ('unacc', 1695), ('good', 1696), ('vgood', 1697), ('unacc', 1698), ('good', 1699), ('vgood', 1700), ('unacc', 1701), ('unacc', 1702), ('unacc', 1703), ('unacc', 1704), ('unacc', 1705), ('unacc', 1706), ('unacc', 1707), ('unacc', 1708), ('unacc', 1709), ('unacc', 1710), ('acc', 1711), ('good', 1712), ('unacc', 1713), ('good', 1714), ('vgood', 1715), ('unacc', 1716), ('good', 1717), ('vgood', 1718), ('unacc', 1719), ('acc', 1720), ('good', 1721), ('unacc', 1722), ('good', 1723), ('vgood', 1724), ('unacc', 1725), ('good', 1726), ('vgood', 1727)]\n"
          ]
        }
      ]
    },
    {
      "cell_type": "code",
      "source": [
        "X = X.to_numpy()"
      ],
      "metadata": {
        "id": "bVoDj5xSO0VC"
      },
      "execution_count": 43,
      "outputs": []
    },
    {
      "cell_type": "code",
      "source": [
        "fig = plt.figure(1, figsize=(4, 3))\n",
        "plt.clf()\n",
        "ax = Axes3D(fig, rect=[0, 0, 0.95, 1], elev=48, azim=134)\n",
        "\n",
        "plt.cla()\n",
        "name_label = [(y_label, id) for id, y_label in enumerate(y_labels)]\n",
        "for name, label in name_label:\n",
        "    #print(X[y == label, 0])\n",
        "    #print(X[0, 0])\n",
        "    ax.text3D(        \n",
        "        X[y == label, 0].mean(),\n",
        "        X[y == label, 1].mean() + 1.5,\n",
        "        X[y == label, 2].mean(),\n",
        "        name,\n",
        "        horizontalalignment=\"center\",\n",
        "        bbox=dict(alpha=0.5, edgecolor=\"w\", facecolor=\"w\"),\n",
        "    )\n",
        "# Reorder the labels to have colors matching the cluster results\n",
        "y = np.choose(y, [1, 2, 0]).astype(float)\n",
        "ax.scatter(X[:, 0], X[:, 1], X[:, 2], c=y, cmap=plt.cm.nipy_spectral, edgecolor=\"k\")\n",
        "\n",
        "ax.w_xaxis.set_ticklabels([])\n",
        "ax.w_yaxis.set_ticklabels([])\n",
        "ax.w_zaxis.set_ticklabels([])\n",
        "\n",
        "plt.show()\n",
        "\n",
        "\n"
      ],
      "metadata": {
        "colab": {
          "base_uri": "https://localhost:8080/",
          "height": 1000
        },
        "id": "T4byEAKUGeWD",
        "outputId": "d0536855-d193-41f4-e2f3-6dd59566bd46"
      },
      "execution_count": 44,
      "outputs": [
        {
          "output_type": "stream",
          "name": "stdout",
          "text": [
            "vhigh\n",
            "vhigh\n",
            "vhigh\n",
            "vhigh\n"
          ]
        },
        {
          "output_type": "stream",
          "name": "stderr",
          "text": [
            "/usr/local/lib/python3.7/dist-packages/ipykernel_launcher.py:11: RuntimeWarning: Mean of empty slice.\n",
            "  # This is added back by InteractiveShellApp.init_path()\n",
            "/usr/local/lib/python3.7/dist-packages/numpy/core/_methods.py:191: RuntimeWarning: invalid value encountered in long_scalars\n",
            "  ret = ret / rcount\n",
            "/usr/local/lib/python3.7/dist-packages/ipykernel_launcher.py:12: RuntimeWarning: Mean of empty slice.\n",
            "  if sys.path[0] == '':\n",
            "/usr/local/lib/python3.7/dist-packages/ipykernel_launcher.py:13: RuntimeWarning: Mean of empty slice.\n",
            "  del sys.path[0]\n"
          ]
        },
        {
          "output_type": "error",
          "ename": "TypeError",
          "evalue": "ignored",
          "traceback": [
            "\u001b[0;31m---------------------------------------------------------------------------\u001b[0m",
            "\u001b[0;31mTypeError\u001b[0m                                 Traceback (most recent call last)",
            "\u001b[0;32m<ipython-input-44-3c6f88d437d5>\u001b[0m in \u001b[0;36m<module>\u001b[0;34m()\u001b[0m\n\u001b[1;32m     17\u001b[0m     )\n\u001b[1;32m     18\u001b[0m \u001b[0;31m# Reorder the labels to have colors matching the cluster results\u001b[0m\u001b[0;34m\u001b[0m\u001b[0;34m\u001b[0m\u001b[0;34m\u001b[0m\u001b[0m\n\u001b[0;32m---> 19\u001b[0;31m \u001b[0my\u001b[0m \u001b[0;34m=\u001b[0m \u001b[0mnp\u001b[0m\u001b[0;34m.\u001b[0m\u001b[0mchoose\u001b[0m\u001b[0;34m(\u001b[0m\u001b[0my\u001b[0m\u001b[0;34m,\u001b[0m \u001b[0;34m[\u001b[0m\u001b[0;36m1\u001b[0m\u001b[0;34m,\u001b[0m \u001b[0;36m2\u001b[0m\u001b[0;34m,\u001b[0m \u001b[0;36m0\u001b[0m\u001b[0;34m]\u001b[0m\u001b[0;34m)\u001b[0m\u001b[0;34m.\u001b[0m\u001b[0mastype\u001b[0m\u001b[0;34m(\u001b[0m\u001b[0mfloat\u001b[0m\u001b[0;34m)\u001b[0m\u001b[0;34m\u001b[0m\u001b[0;34m\u001b[0m\u001b[0m\n\u001b[0m\u001b[1;32m     20\u001b[0m \u001b[0max\u001b[0m\u001b[0;34m.\u001b[0m\u001b[0mscatter\u001b[0m\u001b[0;34m(\u001b[0m\u001b[0mX\u001b[0m\u001b[0;34m[\u001b[0m\u001b[0;34m:\u001b[0m\u001b[0;34m,\u001b[0m \u001b[0;36m0\u001b[0m\u001b[0;34m]\u001b[0m\u001b[0;34m,\u001b[0m \u001b[0mX\u001b[0m\u001b[0;34m[\u001b[0m\u001b[0;34m:\u001b[0m\u001b[0;34m,\u001b[0m \u001b[0;36m1\u001b[0m\u001b[0;34m]\u001b[0m\u001b[0;34m,\u001b[0m \u001b[0mX\u001b[0m\u001b[0;34m[\u001b[0m\u001b[0;34m:\u001b[0m\u001b[0;34m,\u001b[0m \u001b[0;36m2\u001b[0m\u001b[0;34m]\u001b[0m\u001b[0;34m,\u001b[0m \u001b[0mc\u001b[0m\u001b[0;34m=\u001b[0m\u001b[0my\u001b[0m\u001b[0;34m,\u001b[0m \u001b[0mcmap\u001b[0m\u001b[0;34m=\u001b[0m\u001b[0mplt\u001b[0m\u001b[0;34m.\u001b[0m\u001b[0mcm\u001b[0m\u001b[0;34m.\u001b[0m\u001b[0mnipy_spectral\u001b[0m\u001b[0;34m,\u001b[0m \u001b[0medgecolor\u001b[0m\u001b[0;34m=\u001b[0m\u001b[0;34m\"k\"\u001b[0m\u001b[0;34m)\u001b[0m\u001b[0;34m\u001b[0m\u001b[0;34m\u001b[0m\u001b[0m\n\u001b[1;32m     21\u001b[0m \u001b[0;34m\u001b[0m\u001b[0m\n",
            "\u001b[0;32m<__array_function__ internals>\u001b[0m in \u001b[0;36mchoose\u001b[0;34m(*args, **kwargs)\u001b[0m\n",
            "\u001b[0;32m/usr/local/lib/python3.7/dist-packages/numpy/core/fromnumeric.py\u001b[0m in \u001b[0;36mchoose\u001b[0;34m(a, choices, out, mode)\u001b[0m\n\u001b[1;32m    427\u001b[0m \u001b[0;34m\u001b[0m\u001b[0m\n\u001b[1;32m    428\u001b[0m     \"\"\"\n\u001b[0;32m--> 429\u001b[0;31m     \u001b[0;32mreturn\u001b[0m \u001b[0m_wrapfunc\u001b[0m\u001b[0;34m(\u001b[0m\u001b[0ma\u001b[0m\u001b[0;34m,\u001b[0m \u001b[0;34m'choose'\u001b[0m\u001b[0;34m,\u001b[0m \u001b[0mchoices\u001b[0m\u001b[0;34m,\u001b[0m \u001b[0mout\u001b[0m\u001b[0;34m=\u001b[0m\u001b[0mout\u001b[0m\u001b[0;34m,\u001b[0m \u001b[0mmode\u001b[0m\u001b[0;34m=\u001b[0m\u001b[0mmode\u001b[0m\u001b[0;34m)\u001b[0m\u001b[0;34m\u001b[0m\u001b[0;34m\u001b[0m\u001b[0m\n\u001b[0m\u001b[1;32m    430\u001b[0m \u001b[0;34m\u001b[0m\u001b[0m\n\u001b[1;32m    431\u001b[0m \u001b[0;34m\u001b[0m\u001b[0m\n",
            "\u001b[0;32m/usr/local/lib/python3.7/dist-packages/numpy/core/fromnumeric.py\u001b[0m in \u001b[0;36m_wrapfunc\u001b[0;34m(obj, method, *args, **kwds)\u001b[0m\n\u001b[1;32m     52\u001b[0m     \u001b[0mbound\u001b[0m \u001b[0;34m=\u001b[0m \u001b[0mgetattr\u001b[0m\u001b[0;34m(\u001b[0m\u001b[0mobj\u001b[0m\u001b[0;34m,\u001b[0m \u001b[0mmethod\u001b[0m\u001b[0;34m,\u001b[0m \u001b[0;32mNone\u001b[0m\u001b[0;34m)\u001b[0m\u001b[0;34m\u001b[0m\u001b[0;34m\u001b[0m\u001b[0m\n\u001b[1;32m     53\u001b[0m     \u001b[0;32mif\u001b[0m \u001b[0mbound\u001b[0m \u001b[0;32mis\u001b[0m \u001b[0;32mNone\u001b[0m\u001b[0;34m:\u001b[0m\u001b[0;34m\u001b[0m\u001b[0;34m\u001b[0m\u001b[0m\n\u001b[0;32m---> 54\u001b[0;31m         \u001b[0;32mreturn\u001b[0m \u001b[0m_wrapit\u001b[0m\u001b[0;34m(\u001b[0m\u001b[0mobj\u001b[0m\u001b[0;34m,\u001b[0m \u001b[0mmethod\u001b[0m\u001b[0;34m,\u001b[0m \u001b[0;34m*\u001b[0m\u001b[0margs\u001b[0m\u001b[0;34m,\u001b[0m \u001b[0;34m**\u001b[0m\u001b[0mkwds\u001b[0m\u001b[0;34m)\u001b[0m\u001b[0;34m\u001b[0m\u001b[0;34m\u001b[0m\u001b[0m\n\u001b[0m\u001b[1;32m     55\u001b[0m \u001b[0;34m\u001b[0m\u001b[0m\n\u001b[1;32m     56\u001b[0m     \u001b[0;32mtry\u001b[0m\u001b[0;34m:\u001b[0m\u001b[0;34m\u001b[0m\u001b[0;34m\u001b[0m\u001b[0m\n",
            "\u001b[0;32m/usr/local/lib/python3.7/dist-packages/numpy/core/fromnumeric.py\u001b[0m in \u001b[0;36m_wrapit\u001b[0;34m(obj, method, *args, **kwds)\u001b[0m\n\u001b[1;32m     41\u001b[0m     \u001b[0;32mexcept\u001b[0m \u001b[0mAttributeError\u001b[0m\u001b[0;34m:\u001b[0m\u001b[0;34m\u001b[0m\u001b[0;34m\u001b[0m\u001b[0m\n\u001b[1;32m     42\u001b[0m         \u001b[0mwrap\u001b[0m \u001b[0;34m=\u001b[0m \u001b[0;32mNone\u001b[0m\u001b[0;34m\u001b[0m\u001b[0;34m\u001b[0m\u001b[0m\n\u001b[0;32m---> 43\u001b[0;31m     \u001b[0mresult\u001b[0m \u001b[0;34m=\u001b[0m \u001b[0mgetattr\u001b[0m\u001b[0;34m(\u001b[0m\u001b[0masarray\u001b[0m\u001b[0;34m(\u001b[0m\u001b[0mobj\u001b[0m\u001b[0;34m)\u001b[0m\u001b[0;34m,\u001b[0m \u001b[0mmethod\u001b[0m\u001b[0;34m)\u001b[0m\u001b[0;34m(\u001b[0m\u001b[0;34m*\u001b[0m\u001b[0margs\u001b[0m\u001b[0;34m,\u001b[0m \u001b[0;34m**\u001b[0m\u001b[0mkwds\u001b[0m\u001b[0;34m)\u001b[0m\u001b[0;34m\u001b[0m\u001b[0;34m\u001b[0m\u001b[0m\n\u001b[0m\u001b[1;32m     44\u001b[0m     \u001b[0;32mif\u001b[0m \u001b[0mwrap\u001b[0m\u001b[0;34m:\u001b[0m\u001b[0;34m\u001b[0m\u001b[0;34m\u001b[0m\u001b[0m\n\u001b[1;32m     45\u001b[0m         \u001b[0;32mif\u001b[0m \u001b[0;32mnot\u001b[0m \u001b[0misinstance\u001b[0m\u001b[0;34m(\u001b[0m\u001b[0mresult\u001b[0m\u001b[0;34m,\u001b[0m \u001b[0mmu\u001b[0m\u001b[0;34m.\u001b[0m\u001b[0mndarray\u001b[0m\u001b[0;34m)\u001b[0m\u001b[0;34m:\u001b[0m\u001b[0;34m\u001b[0m\u001b[0;34m\u001b[0m\u001b[0m\n",
            "\u001b[0;31mTypeError\u001b[0m: Cannot cast array data from dtype('O') to dtype('int64') according to the rule 'safe'"
          ]
        },
        {
          "output_type": "stream",
          "name": "stderr",
          "text": [
            "posx and posy should be finite values\n",
            "posx and posy should be finite values\n",
            "posx and posy should be finite values\n",
            "posx and posy should be finite values\n",
            "posx and posy should be finite values\n",
            "posx and posy should be finite values\n",
            "posx and posy should be finite values\n",
            "posx and posy should be finite values\n",
            "posx and posy should be finite values\n",
            "posx and posy should be finite values\n",
            "posx and posy should be finite values\n",
            "posx and posy should be finite values\n"
          ]
        },
        {
          "output_type": "display_data",
          "data": {
            "text/plain": [
              "<Figure size 288x216 with 1 Axes>"
            ],
            "image/png": "[encoded data removed]"
          },
          "metadata": {
            "needs_background": "light"
          }
        }
      ]
    },
    {
      "cell_type": "markdown",
      "source": [
        "## T-SNE\n",
        "* https://www.geeksforgeeks.org/difference-between-pca-vs-t-sne/"
      ],
      "metadata": {
        "id": "s9yJ9nx857bK"
      }
    }
  ]
}