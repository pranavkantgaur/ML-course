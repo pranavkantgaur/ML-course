{
  "nbformat": 4,
  "nbformat_minor": 0,
  "metadata": {
    "colab": {
      "name": "ml-lect-1.ipynb",
      "provenance": [],
      "collapsed_sections": [],
      "authorship_tag": "ABX9TyOY8Z/fPctsa88d4MbCM6Vo",
      "include_colab_link": true
    },
    "kernelspec": {
      "name": "python3",
      "display_name": "Python 3"
    },
    "language_info": {
      "name": "python"
    }
  },
  "cells": [
    {
      "cell_type": "markdown",
      "metadata": {
        "id": "view-in-github",
        "colab_type": "text"
      },
      "source": [
        "<a href=\"https://colab.research.google.com/github/pranavkantgaur/ML-course/blob/main/ml_lect_1.ipynb\" target=\"_parent\"><img src=\"https://colab.research.google.com/assets/colab-badge.svg\" alt=\"Open In Colab\"/></a>"
      ]
    },
    {
      "cell_type": "code",
      "execution_count": null,
      "metadata": {
        "id": "KsGuh293-r-U"
      },
      "outputs": [],
      "source": [
        "'''\n",
        " Lecture-1\n",
        " 1. Applications\n",
        " 2. ML Solution pipeline\n",
        "    * Raw data -> Data sanitization -> Data analysis ->   Feature engioneering -> Data preprocessing -> Model selection and training -> Model evaluation -> Model Validation -> Model Deployment -> Model monitoring\n",
        "    * Feature selection: Brute-force, top-down, bottom-up\n",
        " 3. Implementation:\n",
        "    * S/W:\n",
        "      * sklearn\n",
        "      * tf/pytorch/paddle\n",
        "    * H/W:\n",
        "      * embedded, jetson\n",
        "      *  \n",
        " 4. Going forward, lectures overview\n",
        " 5. ML issues:\n",
        "    1. Bias vs Variance\n",
        "    2. Hyperparmeter optimization\n",
        "'''"
      ]
    },
    {
      "cell_type": "markdown",
      "source": [
        "### Types of learning\n",
        "* Supervised\n",
        "* Unsupervised\n",
        "* Semi:  Example:\n",
        "  * Given some labelled sdata, train model, predict over unlabelled, build model iteratively\n",
        "* Self: Example (difference from un supervised pre-training?)\n",
        "  * FB AI article: NLP vs CV\n",
        "  * Alpha code\n",
        "  * https://ai.googleblog.com/2021/10/self-supervised-learning-advances.html\n",
        "  * Always for pre-training?\n",
        "\n",
        "### Explanaible AI: (critical for high stakes decisions)\n",
        "* Curve: Interpretabilty vs Performance(accuracy)\n",
        "* Computer program is interpreble, formally verifiable, provable security is possible, easier adoption\n",
        "* Methods:(http://ex.pegg.io/)   \n",
        "  * Neural representations \n",
        "  * Model agnostic methods\n",
        "  * Model specific methods\n",
        "  * Example based "
      ],
      "metadata": {
        "id": "qmZ-UbAd8dld"
      }
    }
  ]
}