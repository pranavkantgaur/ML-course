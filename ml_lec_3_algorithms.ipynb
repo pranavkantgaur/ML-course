{
  "nbformat": 4,
  "nbformat_minor": 0,
  "metadata": {
    "colab": {
      "name": "ml-lec-3-algorithms.ipynb",
      "provenance": [],
      "collapsed_sections": [],
      "authorship_tag": "ABX9TyP4V7U+Ww8bH8XdzD6CoCRk",
      "include_colab_link": true
    },
    "kernelspec": {
      "name": "python3",
      "display_name": "Python 3"
    },
    "language_info": {
      "name": "python"
    }
  },
  "cells": [
    {
      "cell_type": "markdown",
      "metadata": {
        "id": "view-in-github",
        "colab_type": "text"
      },
      "source": [
        "<a href=\"https://colab.research.google.com/github/pranavkantgaur/ML-course/blob/main/ml_lec_3_algorithms.ipynb\" target=\"_parent\"><img src=\"https://colab.research.google.com/assets/colab-badge.svg\" alt=\"Open In Colab\"/></a>"
      ]
    },
    {
      "cell_type": "markdown",
      "source": [
        "##  Objectives\n",
        "•\tML Algorithms: Naive Bayes, Linear Regression, Decision Trees, K-Nearest Neighbor(KNN), Support Vector Machine (SVM), One-Class Support Vector Machine (SVM) and K-Means."
      ],
      "metadata": {
        "id": "3uXUrW9MXHJf"
      }
    },
    {
      "cell_type": "markdown",
      "source": [
        "## Naive Bayes"
      ],
      "metadata": {
        "id": "3qk5MzNdppwI"
      }
    },
    {
      "cell_type": "markdown",
      "source": [
        "## Linear and Logistic Regression\n",
        "\n",
        "![linear-regression-vs-logistic-regression.png](data:image/png;base64,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)"
      ],
      "metadata": {
        "id": "jlQNgFn3qvTq"
      }
    },
    {
      "cell_type": "markdown",
      "source": [
        "## Decision trees"
      ],
      "metadata": {
        "id": "GOhjtkptseAL"
      }
    },
    {
      "cell_type": "markdown",
      "source": [
        "## KNN"
      ],
      "metadata": {
        "id": "7jPISmxwsiF9"
      }
    },
    {
      "cell_type": "markdown",
      "source": [
        "## SVM"
      ],
      "metadata": {
        "id": "tCKCLeczsjwe"
      }
    },
    {
      "cell_type": "markdown",
      "source": [
        "## K-Means"
      ],
      "metadata": {
        "id": "CZrwkIcZslEl"
      }
    }
  ]
}