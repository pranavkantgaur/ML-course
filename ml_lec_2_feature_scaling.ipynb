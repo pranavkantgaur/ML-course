{
  "nbformat": 4,
  "nbformat_minor": 0,
  "metadata": {
    "colab": {
      "name": "ml-lec-2-feature-scaling.ipynb",
      "provenance": [],
      "collapsed_sections": [],
      "authorship_tag": "ABX9TyMSRTTKGW7vqpDxE0gZXIJB",
      "include_colab_link": true
    },
    "kernelspec": {
      "name": "python3",
      "display_name": "Python 3"
    },
    "language_info": {
      "name": "python"
    }
  },
  "cells": [
    {
      "cell_type": "markdown",
      "metadata": {
        "id": "view-in-github",
        "colab_type": "text"
      },
      "source": [
        "<a href=\"https://colab.research.google.com/github/pranavkantgaur/ML-course/blob/main/ml_lec_2_feature_scaling.ipynb\" target=\"_parent\"><img src=\"https://colab.research.google.com/assets/colab-badge.svg\" alt=\"Open In Colab\"/></a>"
      ]
    },
    {
      "cell_type": "markdown",
      "source": [
        "## Model evaluation\n",
        "* Confusion matrix: \n",
        "* Accuracy\n",
        "* Precision\n",
        "* Recall\n",
        "* ROC (Receiver Operating Characteristics) curve: https://developers.google.com/machine-learning/crash-course/classification/roc-and-auc\n",
        "\n",
        "\n"
      ],
      "metadata": {
        "id": "xCqCSHRc0tGY"
      }
    },
    {
      "cell_type": "markdown",
      "source": [
        "## Model validation\n",
        "\n",
        "* K-Fold Cross-Validation: Resampling without replacement\n",
        "* Leave-One-Out Cross-Validation (LOOCV)\n",
        "* Random Subsampling\n",
        "* Bootstrapping: Resampling with replacement\n",
        "\n",
        "### Further reading\n",
        "https://dzone.com/articles/machine-learning-validation-techniques\n",
        "\n"
      ],
      "metadata": {
        "id": "iAWbel593JjU"
      }
    },
    {
      "cell_type": "markdown",
      "source": [
        "## Perfomance of model depends on data quality"
      ],
      "metadata": {
        "id": "Ol77rg1N1EqU"
      }
    },
    {
      "cell_type": "markdown",
      "source": [
        "## Preparing the data"
      ],
      "metadata": {
        "id": "2zXop_Ar0wOe"
      }
    },
    {
      "cell_type": "code",
      "execution_count": null,
      "metadata": {
        "id": "TdbpkHCFDt38"
      },
      "outputs": [],
      "source": [
        "import numpy as np\n",
        "import matplotlib.pyplot as plt\n",
        "width = np.array([140, 150, 160, 190])\n",
        "height = np.array([55, 60, 71, 99])\n",
        "\n",
        "mean_width = width.mean()\n",
        "std_width = width.std()\n",
        "\n",
        "mean_height = height.mean()\n",
        "std_height = height.std()\n",
        "\n",
        "max_height = height.max()\n",
        "min_height = height.min()\n",
        "\n",
        "max_width = width.max()\n",
        "min_width = width.min()\n",
        "\n"
      ]
    },
    {
      "cell_type": "code",
      "source": [
        "max_min_norm_height = [(x-min_height)/(max_height-min_height) for x in height]\n",
        "max_min_norm_width = [(x-min_width)/(max_width-min_width) for x in width]\n",
        "\n",
        "std_norm_height = [(x-mean_height)/std_height for x in height]\n",
        "std_norm_width = [(x-mean_width)/std_width for x in width]"
      ],
      "metadata": {
        "id": "_TT14OgjEmAA"
      },
      "execution_count": null,
      "outputs": []
    },
    {
      "cell_type": "code",
      "source": [
        "print(max_min_norm_height)\n",
        "print(max_min_norm_width)\n"
      ],
      "metadata": {
        "colab": {
          "base_uri": "https://localhost:8080/"
        },
        "id": "4sT7-JElFrNS",
        "outputId": "9a0a4ec2-484c-4d11-ba8a-7632b9412224"
      },
      "execution_count": null,
      "outputs": [
        {
          "output_type": "stream",
          "name": "stdout",
          "text": [
            "[0.0, 0.11363636363636363, 0.36363636363636365, 1.0]\n",
            "[0.0, 0.2, 0.4, 1.0]\n"
          ]
        }
      ]
    },
    {
      "cell_type": "code",
      "source": [
        "print(std_norm_height)\n",
        "print(std_norm_width)"
      ],
      "metadata": {
        "colab": {
          "base_uri": "https://localhost:8080/"
        },
        "id": "_dQrlOp4F_ql",
        "outputId": "9553070b-bc04-46df-f60f-5eecb2f627dc"
      },
      "execution_count": null,
      "outputs": [
        {
          "output_type": "stream",
          "name": "stdout",
          "text": [
            "[-0.9539245257678995, -0.6604092870700843, -0.014675761934890763, 1.6290095747728746]\n",
            "[-1.0690449676496976, -0.5345224838248488, 0.0, 1.6035674514745462]\n"
          ]
        }
      ]
    },
    {
      "cell_type": "code",
      "source": [
        "plt.scatter(max_min_norm_height,std_norm_height)"
      ],
      "metadata": {
        "colab": {
          "base_uri": "https://localhost:8080/",
          "height": 282
        },
        "id": "9A9YN2s2FR1v",
        "outputId": "6f62afe5-cf4b-44f0-dccf-6ca5335586f3"
      },
      "execution_count": null,
      "outputs": [
        {
          "output_type": "execute_result",
          "data": {
            "text/plain": [
              "<matplotlib.collections.PathCollection at 0x7f4f1e9481d0>"
            ]
          },
          "metadata": {},
          "execution_count": 17
        },
        {
          "output_type": "display_data",
          "data": {
            "text/plain": [
              "<Figure size 432x288 with 1 Axes>"
            ],
            "image/png": "[encoded data removed]"
          },
          "metadata": {
            "needs_background": "light"
          }
        }
      ]
    },
    {
      "cell_type": "code",
      "source": [
        "plt.scatter(max_min_norm_width,std_norm_width)"
      ],
      "metadata": {
        "colab": {
          "base_uri": "https://localhost:8080/",
          "height": 282
        },
        "id": "VBeDgmDuFc1y",
        "outputId": "41b8778b-5037-4ca6-a10a-520c96b845c7"
      },
      "execution_count": null,
      "outputs": [
        {
          "output_type": "execute_result",
          "data": {
            "text/plain": [
              "<matplotlib.collections.PathCollection at 0x7f4f1e8d6e10>"
            ]
          },
          "metadata": {},
          "execution_count": 18
        },
        {
          "output_type": "display_data",
          "data": {
            "text/plain": [
              "<Figure size 432x288 with 1 Axes>"
            ],
            "image/png": "[encoded data removed]"
          },
          "metadata": {
            "needs_background": "light"
          }
        }
      ]
    },
    {
      "cell_type": "code",
      "source": [
        "random_data = np.linspace(1,1000,700)\n",
        "std_norm_random_data = [(x-random_data.mean())/random_data.std() for x in random_data]\n",
        "plt.hist(std_norm_random_data)"
      ],
      "metadata": {
        "colab": {
          "base_uri": "https://localhost:8080/",
          "height": 352
        },
        "id": "_qnQ25WYJTGW",
        "outputId": "f29feb6b-ee22-4c27-9d73-db7347299392"
      },
      "execution_count": null,
      "outputs": [
        {
          "output_type": "execute_result",
          "data": {
            "text/plain": [
              "(array([70., 70., 70., 70., 70., 70., 70., 70., 70., 70.]),\n",
              " array([-1.72957821, -1.38366257, -1.03774693, -0.69183129, -0.34591564,\n",
              "         0.        ,  0.34591564,  0.69183129,  1.03774693,  1.38366257,\n",
              "         1.72957821]),\n",
              " <a list of 10 Patch objects>)"
            ]
          },
          "metadata": {},
          "execution_count": 5
        },
        {
          "output_type": "display_data",
          "data": {
            "text/plain": [
              "<Figure size 432x288 with 1 Axes>"
            ],
            "image/png": "[encoded data removed]"
          },
          "metadata": {
            "needs_background": "light"
          }
        }
      ]
    },
    {
      "cell_type": "code",
      "source": [
        "random_data = np.random.normal(size = 700)\n",
        "std_norm_random_data = [(x-random_data.mean())/random_data.std() for x in random_data]\n",
        "plt.hist(std_norm_random_data)"
      ],
      "metadata": {
        "colab": {
          "base_uri": "https://localhost:8080/",
          "height": 352
        },
        "id": "TYbq2zSWIJGI",
        "outputId": "b8d6da03-1ed3-4289-e4ca-81db6e1333e1"
      },
      "execution_count": null,
      "outputs": [
        {
          "output_type": "execute_result",
          "data": {
            "text/plain": [
              "(array([  9.,  26.,  63.,  94., 166., 161., 104.,  54.,  19.,   4.]),\n",
              " array([-2.88433582, -2.29629817, -1.70826051, -1.12022285, -0.53218519,\n",
              "         0.05585247,  0.64389013,  1.23192779,  1.81996544,  2.4080031 ,\n",
              "         2.99604076]),\n",
              " <a list of 10 Patch objects>)"
            ]
          },
          "metadata": {},
          "execution_count": 4
        },
        {
          "output_type": "display_data",
          "data": {
            "text/plain": [
              "<Figure size 432x288 with 1 Axes>"
            ],
            "image/png": "[encoded data removed]"
          },
          "metadata": {
            "needs_background": "light"
          }
        }
      ]
    },
    {
      "cell_type": "code",
      "source": [
        "'''\n",
        "After scaling > 1\n",
        "1. Truncate to 0 - 1\n",
        "2. Outlier for noisy data\n",
        "3. Debug case: Model retraining?, analmoly?\n",
        "'''"
      ],
      "metadata": {
        "id": "F5Lj407QHZwU"
      },
      "execution_count": null,
      "outputs": []
    },
    {
      "cell_type": "markdown",
      "source": [
        "## Remove redundacy"
      ],
      "metadata": {
        "id": "_JS4vWCZ1RBZ"
      }
    }
  ]
}